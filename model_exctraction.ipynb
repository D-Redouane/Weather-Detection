{
 "cells": [
  {
   "cell_type": "markdown",
   "metadata": {},
   "source": [
    "# Save Model Results (Google Colab)"
   ]
  },
  {
   "cell_type": "markdown",
   "metadata": {},
   "source": [
    "###### Save all the Model"
   ]
  },
  {
   "cell_type": "code",
   "execution_count": null,
   "metadata": {},
   "outputs": [],
   "source": [
    "# save model by hdf5\n",
    "vgg_model.save('/content/sample_data/weather-dataset/vgg_model.h5')\n",
    "resnet_model.save('/content/sample_data/weather-dataset/resnet_model.h5')\n",
    "xception_model.save('/content/sample_data/weather-dataset/xception_model.h5')\n",
    "\n",
    "# save model in SavedModel format\n",
    "vgg_model.save('/content/sample_data/weather-dataset/vgg_model')\n",
    "resnet_model.save('/content/sample_data/weather-dataset/resnet_model')\n",
    "xception_model.save('/content/sample_data/weather-dataset/xception_model')"
   ]
  },
  {
   "cell_type": "markdown",
   "metadata": {},
   "source": [
    "###### save weights of the model"
   ]
  },
  {
   "cell_type": "code",
   "execution_count": null,
   "metadata": {},
   "outputs": [],
   "source": [
    "# save weights of the model\n",
    "\n",
    "vgg_model.save_weights('/content/sample_data/weather-dataset/vgg_weights.h5')\n",
    "resnet_model.save_weights('/content/sample_data/weather-dataset/resnet_weights.h5')\n",
    "xception_model.save_weights('/content/sample_data/weather-dataset/xception_weights.h5')"
   ]
  },
  {
   "cell_type": "markdown",
   "metadata": {},
   "source": [
    "###### save onley architecture to json"
   ]
  },
  {
   "cell_type": "code",
   "execution_count": null,
   "metadata": {},
   "outputs": [],
   "source": [
    "# save only architecture to_json\n",
    "\n",
    "models={\n",
    "     'vgg_model':vgg_model,\n",
    "     'resnet_model':resnet_model,\n",
    "     'xception_model':xception_model\n",
    "}\n",
    "\n",
    "json_string = {\n",
    "     'json_string_vgg':models['vgg_model'].to_json(),\n",
    "     'json_string_resnet':models['resnet_model'].to_json(),\n",
    "     'json_string_xception':models['xception_model'].to_json()\n",
    "}\n",
    "\n",
    "with open(\"/content/sample_data/weather-dataset/model_vgg\", \"w\") as f: \n",
    "     f.write(json_string['json_string_vgg'])\n",
    "with open(\"/content/sample_data/weather-dataset/model_resnet\", \"w\") as f: \n",
    "     f.write(json_string['json_string_resnet'])\n",
    "with open(\"/content/sample_data/weather-dataset/model_xception\", \"w\") as f: \n",
    "     f.write(json_string['json_string_xception'])\n",
    "\n",
    "\n",
    "with open(\"/content/sample_data/weather-dataset/model_vgg\", \"r\") as f: \n",
    "     loaded_json_string_vgg = f.read()\n",
    "with open(\"/content/sample_data/weather-dataset/model_resnet\", \"r\") as f: \n",
    "     loaded_json_string_resnet = f.read()\n",
    "with open(\"/content/sample_data/weather-dataset/model_xception\", \"r\") as f: \n",
    "     loaded_json_string_xception = f.read()\n",
    "\n",
    "\n",
    "new_model_vgg = keras.models.model_from_json(loaded_json_string_vgg) \n",
    "print(new_model_vgg.summary())\n",
    "\n",
    "new_model_resnet = keras.models.model_from_json(loaded_json_string_resnet) \n",
    "print(new_model_resnet.summary())\n",
    "\n",
    "new_model_xception = keras.models.model_from_json(loaded_json_string_xception) \n",
    "print(new_model_xception.summary())"
   ]
  },
  {
   "cell_type": "markdown",
   "metadata": {},
   "source": [
    "## convert to tflite\n",
    " "
   ]
  },
  {
   "cell_type": "code",
   "execution_count": null,
   "metadata": {},
   "outputs": [],
   "source": [
    "# convert to tflite\n",
    "import tensorflow as tf\n",
    "\n",
    "# Convert the SavedModel to a TFLite model (SavedModel format is a folder like structure not a file)\n",
    "tflite_model_path = './custom_model.tflite'\n",
    "saved_model_path='path/to/xception/xception_model'\n",
    "\n",
    "converter = tf.lite.TFLiteConverter.from_saved_model(saved_model_path)\n",
    "converter.target_spec.supported_ops = [\n",
    "  tf.lite.OpsSet.TFLITE_BUILTINS,\n",
    "  tf.lite.OpsSet.SELECT_TF_OPS\n",
    "]\n",
    "tflite_model = converter.convert()\n",
    "open(tflite_model_path, \"wb\").write(tflite_model)\n"
   ]
  }
 ],
 "metadata": {
  "language_info": {
   "name": "python"
  }
 },
 "nbformat": 4,
 "nbformat_minor": 2
}
